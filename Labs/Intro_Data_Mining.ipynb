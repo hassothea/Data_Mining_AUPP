{
 "cells": [
  {
   "cell_type": "markdown",
   "id": "652c27d5",
   "metadata": {},
   "source": [
    "# **Lab1: Introduction to Data Mining**\n",
    "\n",
    "**Course**: **CSCI-866-001: Data Mining & Knowledge Discovery** <br>\n",
    "**Lecturer**: **Sothea HAS, PhD**\n",
    "\n",
    "-----\n",
    "\n",
    "**Objective:**  This lab aims at reproducing what we have seen in the class about overall pattern/connection existed in the dataset ([Amazon](https://www.kaggle.com/datasets/skillsmuggler/amazon-ratings)). You will also investigate some interesting aspects of this dataset.\n",
    "\n",
    "- The `notebook` of this `Lab` can be downloaded here: [Intro_Data_Mining.ipynb](https://hassothea.github.io/Data_Mining_AUPP/Labs/Intro_Data_Mining.ipynb){target=\"_blank\"}.\n",
    "\n",
    "- Or you can work directly with `Google Colab` here: [Intro_Data_Mining.ipynb](https://colab.research.google.com/drive/1ioPlNXMUUcm9hS3M_xhesA2tAsqnxiGz?usp=sharing){target=\"_blank\"}.\n",
    "\n",
    "\n",
    "-----\n"
   ]
  },
  {
   "cell_type": "markdown",
   "id": "368842f5",
   "metadata": {},
   "source": [
    "## **1. Amazon dataset**\n",
    "\n",
    "Let's begin by importing the dataset into our environment."
   ]
  },
  {
   "cell_type": "code",
   "execution_count": null,
   "id": "c9abf4cb",
   "metadata": {},
   "outputs": [
    {
     "data": {
      "text/html": [
       "<div>\n",
       "<style scoped>\n",
       "    .dataframe tbody tr th:only-of-type {\n",
       "        vertical-align: middle;\n",
       "    }\n",
       "\n",
       "    .dataframe tbody tr th {\n",
       "        vertical-align: top;\n",
       "    }\n",
       "\n",
       "    .dataframe thead th {\n",
       "        text-align: right;\n",
       "    }\n",
       "</style>\n",
       "<table border=\"1\" class=\"dataframe\">\n",
       "  <thead>\n",
       "    <tr style=\"text-align: right;\">\n",
       "      <th></th>\n",
       "      <th>UserId</th>\n",
       "      <th>ProductId</th>\n",
       "      <th>Rating</th>\n",
       "      <th>Timestamp</th>\n",
       "    </tr>\n",
       "  </thead>\n",
       "  <tbody>\n",
       "    <tr>\n",
       "      <th>0</th>\n",
       "      <td>A39HTATAQ9V7YF</td>\n",
       "      <td>0205616461</td>\n",
       "      <td>5.0</td>\n",
       "      <td>1369699200</td>\n",
       "    </tr>\n",
       "    <tr>\n",
       "      <th>1</th>\n",
       "      <td>A3JM6GV9MNOF9X</td>\n",
       "      <td>0558925278</td>\n",
       "      <td>3.0</td>\n",
       "      <td>1355443200</td>\n",
       "    </tr>\n",
       "    <tr>\n",
       "      <th>2</th>\n",
       "      <td>A1Z513UWSAAO0F</td>\n",
       "      <td>0558925278</td>\n",
       "      <td>5.0</td>\n",
       "      <td>1404691200</td>\n",
       "    </tr>\n",
       "    <tr>\n",
       "      <th>3</th>\n",
       "      <td>A1WMRR494NWEWV</td>\n",
       "      <td>0733001998</td>\n",
       "      <td>4.0</td>\n",
       "      <td>1382572800</td>\n",
       "    </tr>\n",
       "    <tr>\n",
       "      <th>4</th>\n",
       "      <td>A3IAAVS479H7M7</td>\n",
       "      <td>0737104473</td>\n",
       "      <td>1.0</td>\n",
       "      <td>1274227200</td>\n",
       "    </tr>\n",
       "  </tbody>\n",
       "</table>\n",
       "</div>"
      ],
      "text/plain": [
       "           UserId   ProductId  Rating   Timestamp\n",
       "0  A39HTATAQ9V7YF  0205616461     5.0  1369699200\n",
       "1  A3JM6GV9MNOF9X  0558925278     3.0  1355443200\n",
       "2  A1Z513UWSAAO0F  0558925278     5.0  1404691200\n",
       "3  A1WMRR494NWEWV  0733001998     4.0  1382572800\n",
       "4  A3IAAVS479H7M7  0737104473     1.0  1274227200"
      ]
     },
     "execution_count": 1,
     "metadata": {},
     "output_type": "execute_result"
    }
   ],
   "source": [
    "# To do"
   ]
  },
  {
   "cell_type": "markdown",
   "id": "93a220a6",
   "metadata": {},
   "source": [
    "**A.** Reproduce the result and graph illustrated from slide [26](https://hassothea.github.io/Data_Mining_AUPP/Intro_Data_Mining.html#/application-on-amazon-dataset-1) of the course.\n",
    "\n",
    "\n",
    "### **B. Product Analysis**\n",
    "\n",
    "**B.1.** Visualize the rating distribution for the most popular product. "
   ]
  },
  {
   "cell_type": "code",
   "execution_count": 2,
   "id": "fd85c09d",
   "metadata": {},
   "outputs": [],
   "source": [
    "# To do"
   ]
  },
  {
   "cell_type": "markdown",
   "id": "bb41f4ce",
   "metadata": {},
   "source": [
    "**B.2.** Repeat the previous question for the 2nd and 3rd most popular products."
   ]
  },
  {
   "cell_type": "code",
   "execution_count": null,
   "id": "913b191f",
   "metadata": {},
   "outputs": [],
   "source": [
    "# To do"
   ]
  },
  {
   "cell_type": "markdown",
   "id": "ea01d7c8",
   "metadata": {},
   "source": [
    "### **C. Time Evolution**\n",
    "\n",
    "**C.1.** Visualize the rating distribution over time."
   ]
  },
  {
   "cell_type": "code",
   "execution_count": null,
   "id": "a18773f1",
   "metadata": {},
   "outputs": [],
   "source": [
    "# To do"
   ]
  },
  {
   "cell_type": "markdown",
   "id": "b757a7ab",
   "metadata": {},
   "source": [
    "**C.2.** Does it seem that the recent products are higher rated compared to the older ones?"
   ]
  },
  {
   "cell_type": "markdown",
   "id": "6b27b12a",
   "metadata": {},
   "source": [
    "## References\n",
    "\n",
    "- [Amazon dataset](https://www.kaggle.com/datasets/skillsmuggler/amazon-ratings)\n",
    "- [Amazon product data](https://jmcauley.ucsd.edu/data/amazon/)\n",
    "- [Introduction to data mining, geeksforgeeks.org](https://www.geeksforgeeks.org/introduction-to-data-mining/)\n",
    "- [Data Mining, Wikipedia](https://en.wikipedia.org/wiki/Data_mining)"
   ]
  }
 ],
 "metadata": {
  "kernelspec": {
   "display_name": "Python 3",
   "language": "python",
   "name": "python3"
  },
  "language_info": {
   "codemirror_mode": {
    "name": "ipython",
    "version": 3
   },
   "file_extension": ".py",
   "mimetype": "text/x-python",
   "name": "python",
   "nbconvert_exporter": "python",
   "pygments_lexer": "ipython3",
   "version": "3.12.5"
  }
 },
 "nbformat": 4,
 "nbformat_minor": 5
}
